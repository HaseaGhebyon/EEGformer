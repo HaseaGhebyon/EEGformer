{
 "cells": [
  {
   "cell_type": "markdown",
   "metadata": {},
   "source": [
    "# Data"
   ]
  },
  {
   "cell_type": "code",
   "execution_count": 15,
   "metadata": {},
   "outputs": [],
   "source": [
    "from util.config import latest_weights_file_path, get_config, get_eegnpy_test_file, get_labelnpy_test_file, get_imgnpy_test_file\n",
    "\n",
    "config = get_config()\n",
    "# CHANGE THIS CODE\n",
    "model_name = \"21chan_5st_120dp_20step\"\n",
    "\n",
    "config[\"datasource\"] = f\"./database/{model_name}\"\n",
    "\n",
    "map_data = {\n",
    "    0 : 'Left Hand',\n",
    "    1 : 'Right Hand',\n",
    "    2 : 'Left Leg',\n",
    "    3 : 'Tongue',\n",
    "    4 : 'Right Leg'\n",
    "}\n",
    "\n",
    "classification_model = latest_weights_file_path(config)"
   ]
  },
  {
   "cell_type": "code",
   "execution_count": 16,
   "metadata": {},
   "outputs": [],
   "source": [
    "from EEGImageDataset import EEGImageDataset\n",
    "import torchvision\n",
    "\n",
    "transform_eeg = torchvision.transforms.Compose([\n",
    "    torchvision.transforms.ToTensor()\n",
    "])\n",
    "transform_img = torchvision.transforms.Compose([\n",
    "    torchvision.transforms.ToTensor()\n",
    "])\n",
    "test_dataset = EEGImageDataset(\n",
    "    eeg_path=get_eegnpy_test_file(config),\n",
    "    images_path=get_imgnpy_test_file(config),\n",
    "    labels_path=get_labelnpy_test_file(config), \n",
    "    transform_eeg=transform_eeg,\n",
    "    transform_img=transform_img\n",
    ")"
   ]
  },
  {
   "cell_type": "markdown",
   "metadata": {},
   "source": [
    "# Classification Module"
   ]
  },
  {
   "cell_type": "code",
   "execution_count": 17,
   "metadata": {},
   "outputs": [
    {
     "name": "stderr",
     "output_type": "stream",
     "text": [
      "/tmp/ipykernel_2824438/10276546.py:22: FutureWarning: You are using `torch.load` with `weights_only=False` (the current default value), which uses the default pickle module implicitly. It is possible to construct malicious pickle data which will execute arbitrary code during unpickling (See https://github.com/pytorch/pytorch/blob/main/SECURITY.md#untrusted-models for more details). In a future release, the default value for `weights_only` will be flipped to `True`. This limits the functions that could be executed during unpickling. Arbitrary objects will no longer be allowed to be loaded via this mode unless they are explicitly allowlisted by the user via `torch.serialization.add_safe_globals`. We recommend you start setting `weights_only=True` for any use case where you don't have full control of the loaded file. Please open an issue on GitHub for any issues related to this experimental feature.\n",
      "  snapshot = torch.load(classification_model)\n"
     ]
    },
    {
     "data": {
      "text/plain": [
       "<All keys matched successfully>"
      ]
     },
     "execution_count": 17,
     "metadata": {},
     "output_type": "execute_result"
    }
   ],
   "source": [
    "import torch\n",
    "\n",
    "from model import EEGformer, build_eegformer\n",
    "from trainer_eegformer_gen import ProjectionLayer, EEGImageGen\n",
    "\n",
    "model = build_eegformer(\n",
    "        channel_size=len(config[\"selected_channel\"]),\n",
    "        seq_len=config[\"seq_len\"],\n",
    "        N=config[\"transformer_size\"],\n",
    "        feature_onedcnn=120,\n",
    "        kernel_size=9,\n",
    "        h_regional=6,\n",
    "        h_sync=6,\n",
    "        h_temp=11,\n",
    "        dropout=0.1,\n",
    "        sub_matrices=6,\n",
    "        feature_decoder=2,\n",
    "        num_cls=5,\n",
    "        scaler_ffn=4\n",
    "    )\n",
    "\n",
    "snapshot = torch.load(classification_model)\n",
    "model.load_state_dict(snapshot[\"MODEL_STATE\"])\n"
   ]
  },
  {
   "cell_type": "code",
   "execution_count": 18,
   "metadata": {},
   "outputs": [],
   "source": [
    "SAMPLE_INDEX_TEST = 100"
   ]
  },
  {
   "cell_type": "code",
   "execution_count": 19,
   "metadata": {},
   "outputs": [
    {
     "name": "stdout",
     "output_type": "stream",
     "text": [
      "Truth Label : Right Leg\n",
      "Classification Result :  Right Leg\n"
     ]
    }
   ],
   "source": [
    "\n",
    "data = test_dataset[SAMPLE_INDEX_TEST][0].to(torch.float32)\n",
    "img = test_dataset[SAMPLE_INDEX_TEST][1].to(torch.float32)\n",
    "truth_label = test_dataset[SAMPLE_INDEX_TEST][2]\n",
    "\n",
    "output = model(data)\n",
    "result_output = output.argmax().item()\n",
    "print(\"Truth Label :\", map_data[truth_label])\n",
    "print(\"Classification Result : \", map_data[result_output])"
   ]
  },
  {
   "cell_type": "markdown",
   "metadata": {},
   "source": [
    "# Image Generation Module"
   ]
  },
  {
   "cell_type": "code",
   "execution_count": 20,
   "metadata": {},
   "outputs": [],
   "source": [
    "from pathlib import Path\n",
    "from model_vae import VAE\n",
    "from trainer_eegformer_gen import EEGImageGen\n",
    "config = get_config()\n",
    "\n",
    "\n",
    "# ===================== VARIATIONAL AUTOENCODER CONFIGURATION =====================\n",
    "local_config_vae = {\n",
    "    \"vae_model_folder\" : \"./database_vae/vae_weights\",\n",
    "    \"vae_model_basename\" : \"vaemodel\",\n",
    "    \"experiment_name\" : \"./database_vae/runs/vaemodel\",\n",
    "    \"result_folder\" : \"./database_vae/results\",\n",
    "    \"preload\" : \"latest\" # or number that represent the epoch\n",
    "}\n",
    "\n",
    "def latest_weights_vae_file_path():\n",
    "    model_folder = f\"{local_config_vae['vae_model_folder']}\"\n",
    "    model_filename = f\"{local_config_vae['vae_model_basename']}*\"\n",
    "\n",
    "    weights_files = list(Path(model_folder).glob(model_filename))\n",
    "    if len(weights_files) == 0:\n",
    "        return None\n",
    "\n",
    "    latest_file = \"\"\n",
    "    latest_epoch = -1\n",
    "    for file in weights_files:\n",
    "        splitted = str(file).split(\"_\")\n",
    "        if (int(splitted[-1]) > latest_epoch):\n",
    "            latest_epoch = int(splitted[-1])\n",
    "            latest_file = file\n",
    "    return str(latest_file)\n",
    "\n",
    "def get_weights_vae_file_path(epoch: str):\n",
    "    model_folder = f\"{local_config_vae['vae_model_folder']}\"\n",
    "    model_filename = f\"{local_config_vae['vae_model_basename']}_{epoch}\"\n",
    "    return str(Path('.') / model_folder / model_filename)\n",
    "\n",
    "\n",
    "# ===================== PROJECTION LAYER CONFIGURATION =====================\n",
    "local_config_projection = {\n",
    "    \"proj_model_folder\" : f\"./database_proj/{model_name}/proj_weights\",\n",
    "    \"proj_model_basename\" : \"projmodel\",\n",
    "    \"experiment_name\" : f\"./database_proj/({model_name})/runs/projmodel\",\n",
    "    \"result_folder\" : f\"./database_proj/{model_name}/results\",\n",
    "    \"preload\" : \"latest\" # or number that represent the epoch\n",
    "}\n",
    "\n",
    "def latest_weights_proj_file_path():\n",
    "    model_folder = f\"{local_config_projection['proj_model_folder']}\"\n",
    "    model_filename = f\"{local_config_projection['proj_model_basename']}*\"\n",
    "\n",
    "    weights_files = list(Path(model_folder).glob(model_filename))\n",
    "    if len(weights_files) == 0:\n",
    "        return None\n",
    "\n",
    "    latest_file = \"\"\n",
    "    latest_epoch = -1\n",
    "    for file in weights_files:\n",
    "        splitted = str(file).split(\"_\")\n",
    "        if (int(splitted[-1]) > latest_epoch):\n",
    "            latest_epoch = int(splitted[-1])\n",
    "            latest_file = file\n",
    "    return str(latest_file)\n",
    "\n",
    "def get_weights_proj_file_path(epoch: str):\n",
    "    model_folder = f\"{local_config_projection['proj_model_folder']}\"\n",
    "    model_filename = f\"{local_config_projection['proj_model_basename']}_{epoch}\"\n",
    "    return str(Path('.') / model_folder / model_filename)\n",
    "\n",
    "\n",
    "# ===================== EEGFORMERIMAGE CONFIGURATION =====================\n",
    "local_config_gen = {\n",
    "    \"gen_model_folder\" : f'./database_gen/{model_name}/gen_weights',\n",
    "    \"gen_model_basename\" : \"genmodel\",\n",
    "    \"experiment_name\" : f\"./database_gen/{model_name}/runs/genmodel\",\n",
    "    \"result_folder\" : f\"./database_gen/{model_name}/results\",\n",
    "    \"preload\" : \"latest\" # or number that represent the epoch\n",
    "}\n",
    "\n",
    "def latest_weights_gen_file_path():\n",
    "    model_folder = f\"{local_config_gen['gen_model_folder']}\"\n",
    "    model_filename = f\"{local_config_gen['gen_model_basename']}*\"\n",
    "\n",
    "    print(model_folder)\n",
    "    weights_files = list(Path(model_folder).glob(model_filename))\n",
    "    if len(weights_files) == 0:\n",
    "        return None\n",
    "\n",
    "    latest_file = \"\"\n",
    "    latest_epoch = -1\n",
    "    for file in weights_files:\n",
    "        splitted = str(file).split(\"_\")\n",
    "        if (int(splitted[-1]) > latest_epoch):\n",
    "            latest_epoch = int(splitted[-1])\n",
    "            latest_file = file\n",
    "    return str(latest_file)\n",
    "\n",
    "def get_weights_gen_file_path(epoch: str):\n",
    "    model_folder = f\"{local_config_gen['gen_model_folder']}\"\n",
    "    model_filename = f\"{local_config_gen['gen_model_basename']}_{epoch}\"\n",
    "    return str(Path('.') / model_folder / model_filename)"
   ]
  },
  {
   "cell_type": "code",
   "execution_count": 21,
   "metadata": {},
   "outputs": [
    {
     "name": "stdout",
     "output_type": "stream",
     "text": [
      "./database_gen/21chan_5st_120dp_20step/gen_weights\n",
      "database_gen/21chan_5st_120dp_20step/gen_weights/genmodel_80\n"
     ]
    },
    {
     "name": "stderr",
     "output_type": "stream",
     "text": [
      "/tmp/ipykernel_2824438/1516815228.py:9: FutureWarning: You are using `torch.load` with `weights_only=False` (the current default value), which uses the default pickle module implicitly. It is possible to construct malicious pickle data which will execute arbitrary code during unpickling (See https://github.com/pytorch/pytorch/blob/main/SECURITY.md#untrusted-models for more details). In a future release, the default value for `weights_only` will be flipped to `True`. This limits the functions that could be executed during unpickling. Arbitrary objects will no longer be allowed to be loaded via this mode unless they are explicitly allowlisted by the user via `torch.serialization.add_safe_globals`. We recommend you start setting `weights_only=True` for any use case where you don't have full control of the loaded file. Please open an issue on GitHub for any issues related to this experimental feature.\n",
      "  snapshot_gen = torch.load(model_gen_fn)\n",
      "/tmp/ipykernel_2824438/1516815228.py:15: FutureWarning: You are using `torch.load` with `weights_only=False` (the current default value), which uses the default pickle module implicitly. It is possible to construct malicious pickle data which will execute arbitrary code during unpickling (See https://github.com/pytorch/pytorch/blob/main/SECURITY.md#untrusted-models for more details). In a future release, the default value for `weights_only` will be flipped to `True`. This limits the functions that could be executed during unpickling. Arbitrary objects will no longer be allowed to be loaded via this mode unless they are explicitly allowlisted by the user via `torch.serialization.add_safe_globals`. We recommend you start setting `weights_only=True` for any use case where you don't have full control of the loaded file. Please open an issue on GitHub for any issues related to this experimental feature.\n",
      "  snapshot_vae = torch.load(model_vae_fn)\n"
     ]
    },
    {
     "data": {
      "image/png": "[encoded data removed]",
      "text/plain": [
       "<Figure size 640x480 with 2 Axes>"
      ]
     },
     "metadata": {},
     "output_type": "display_data"
    }
   ],
   "source": [
    "import matplotlib.pyplot as plt\n",
    "\n",
    "# EEGformer & Projection Only\n",
    "model_proj = ProjectionLayer()\n",
    "model_gen = EEGImageGen(model, model_proj)\n",
    "\n",
    "model_gen_fn = latest_weights_gen_file_path()\n",
    "print(model_gen_fn)\n",
    "snapshot_gen = torch.load(model_gen_fn)\n",
    "model_gen.load_state_dict(snapshot_gen[\"MODEL_STATE\"])\n",
    "\n",
    "# Pretrained Variational Autoencoder\n",
    "model_vae = VAE()\n",
    "model_vae_fn = latest_weights_vae_file_path()\n",
    "snapshot_vae = torch.load(model_vae_fn)\n",
    "model_vae.load_state_dict(snapshot_vae[\"MODEL_STATE\"])\n",
    "\n",
    "output_latent = model_gen(data)\n",
    "recon_image = model_vae.decode(output_latent)\n",
    "\n",
    "source_image_unflat = img.squeeze().detach().cpu()\n",
    "recon_image_unflat = recon_image.squeeze().detach().cpu()\n",
    "\n",
    "\n",
    "plt.subplot(1,2,1)\n",
    "plt.imshow(recon_image_unflat, cmap='gray')\n",
    "plt.title(\"Reconstructed\")\n",
    "\n",
    "plt.subplot(1,2,2)\n",
    "plt.imshow(source_image_unflat, cmap='gray')\n",
    "plt.title(\"Ground Truth\")\n",
    "\n",
    "plt.show();"
   ]
  }
 ],
 "metadata": {
  "kernelspec": {
   "display_name": "Python 3",
   "language": "python",
   "name": "python3"
  },
  "language_info": {
   "codemirror_mode": {
    "name": "ipython",
    "version": 3
   },
   "file_extension": ".py",
   "mimetype": "text/x-python",
   "name": "python",
   "nbconvert_exporter": "python",
   "pygments_lexer": "ipython3",
   "version": "3.8.10"
  }
 },
 "nbformat": 4,
 "nbformat_minor": 2
}
